{
 "cells": [
  {
   "attachments": {},
   "cell_type": "markdown",
   "metadata": {},
   "source": [
    "<font size=\"10\" color=\"purple\"><left><b><i><u>Exploratory Data Analysis #1</u></i></b></left></font>"
   ]
  },
  {
   "attachments": {},
   "cell_type": "markdown",
   "metadata": {},
   "source": [
    "<font size=\"4\"><li><left><i>Instanciamos clase EDA con los métodos necesarios</i></left></font>\n"
   ]
  },
  {
   "cell_type": "code",
   "execution_count": 55,
   "metadata": {},
   "outputs": [],
   "source": [
    "import pandas as pd\n",
    "\n",
    "class EDA:\n",
    "    def read_csv(self, file_path):\n",
    "        \"\"\"\n",
    "        Lee un archivo CSV y devuelve un dataframe.\n",
    "\n",
    "        Args:\n",
    "            file_path (str): Ruta al archivo CSV a leer.\n",
    "\n",
    "        Returns:\n",
    "            pd.DataFrame: El dataframe con los datos del archivo CSV.\n",
    "        \"\"\"\n",
    "        dataframe = pd.read_csv(file_path,encoding='UTF-8')\n",
    "        return dataframe\n",
    "\n",
    "    def get_columnas(self, dataframe):\n",
    "        \"\"\"\n",
    "        Obtiene una lista de las columnas de un dataframe.\n",
    "\n",
    "        Args:\n",
    "            dataframe (pd.DataFrame): El dataframe del cual se desean obtener las columnas.\n",
    "\n",
    "        Returns:\n",
    "            list: Lista de las columnas del dataframe.\n",
    "        \"\"\"\n",
    "        columnas = dataframe.columns.tolist()\n",
    "        return columnas\n",
    "\n",
    "    def set_columns_dtype_category(self, dataframe, columnas):\n",
    "        \"\"\"\n",
    "        Asigna el tipo de dato \"category\" a una lista de columnas en un dataframe.\n",
    "\n",
    "        Args:\n",
    "            dataframe (pd.DataFrame): El dataframe al que se desea asignar los tipos de dato.\n",
    "            columnas (list): La lista de columnas a las que se desea asignar el tipo de dato \"category\".\n",
    "        \"\"\"\n",
    "        dataframe[columnas] = dataframe[columnas].astype('category')\n",
    "\n",
    "    def set_columns_dtype_int(self, dataframe, columnas):\n",
    "        \"\"\"\n",
    "        Asigna el tipo de dato \"int\" a una lista de columnas en un dataframe.\n",
    "\n",
    "        Args:\n",
    "            dataframe (pd.DataFrame): El dataframe al que se desea asignar los tipos de dato.\n",
    "            columnas (list): La lista de columnas a las que se desea asignar el tipo de dato \"int\".\n",
    "        \"\"\"\n",
    "        dataframe[columnas] = dataframe[columnas].astype(int)\n",
    "\n",
    "    def set_columns_dtype_float(self, dataframe, columnas):\n",
    "        \"\"\"\n",
    "        Asigna el tipo de dato \"float\" a una lista de columnas en un dataframe.\n",
    "\n",
    "        Args:\n",
    "            dataframe (pd.DataFrame): El dataframe al que se desea asignar los tipos de dato.\n",
    "            columnas (list): La lista de columnas a las que se desea asignar el tipo de dato \"float\".\n",
    "        \"\"\"\n",
    "        dataframe[columnas] = dataframe[columnas].astype(float)\n",
    "\n",
    "    def set_columns_dtype_datetime(self, dataframe, columnas, formato='%Y-%m-%d'):\n",
    "        \"\"\"\n",
    "        Asigna el tipo de dato \"datetime\" a una lista de columnas en un dataframe, con el formato especificado.\n",
    "\n",
    "        Args:\n",
    "            dataframe (pd.DataFrame): El dataframe al que se desea asignar los tipos de dato.\n",
    "            columnas (list): La lista de columnas a las que se desea asignar el tipo de dato \"datetime\".\n",
    "            formato (str): El formato de fecha a utilizar (por defecto: \"%Y-%m-%d\").\n",
    "        \"\"\"\n",
    "        dataframe[columnas] = pd.to_datetime(dataframe[columnas], format=formato)\n",
    "\n",
    "    def rename_columns(self, dataframe, column_mapping):\n",
    "        \"\"\"\n",
    "        Modifica los nombres de las columnas de un dataframe.\n",
    "\n",
    "        Args:\n",
    "            dataframe (pd.DataFrame): El dataframe al que se le van a modificar los nombres de las columnas.\n",
    "            column_mapping (dict): Un diccionario que contiene el mapeo de los nombres actuales de las columnas a los nuevos nombres.\n",
    "\n",
    "        Returns:\n",
    "            pd.DataFrame: El dataframe con los nombres de columnas modificados.\n",
    "        \"\"\"\n",
    "        dataframe.rename(columns=column_mapping, inplace=True)\n",
    "        return dataframe\n",
    "\n",
    "    def get_duplicate_rows(self, dataframe, column):\n",
    "        \"\"\"\n",
    "        Devuelve las filas del dataframe que tienen valores duplicados en una columna específica.\n",
    "\n",
    "        Args:\n",
    "            dataframe (pd.DataFrame): El dataframe del cual se van a obtener las filas duplicadas.\n",
    "            column (str): El nombre de la columna a verificar para duplicados.\n",
    "\n",
    "        Returns:\n",
    "            pd.DataFrame: El dataframe con las filas que tienen valores duplicados en la columna especificada.\n",
    "        \"\"\"\n",
    "        duplicate_rows = dataframe[dataframe.duplicated(subset=column, keep=False)]\n",
    "        return duplicate_rows\n",
    "\n",
    "    def strip_column_values(self, dataframe, column_names):\n",
    "        \"\"\"\n",
    "        Elimina los espacios en blanco al inicio y al final de los valores de las filas de las columnas especificadas.\n",
    "\n",
    "        Args:\n",
    "            dataframe (pd.DataFrame): El dataframe en el cual se van a limpiar los valores de las columnas.\n",
    "            column_names (list): Una lista de nombres de columnas a las cuales se les va a aplicar el método .strip().\n",
    "\n",
    "        Returns:\n",
    "            pd.DataFrame: El dataframe con los valores de las filas de las columnas especificadas limpios de espacios en blanco.\n",
    "        \"\"\"\n",
    "        for column in column_names:\n",
    "            dataframe[column] = dataframe[column].str.strip()\n",
    "        return dataframe\n",
    "\n",
    "    def sort_dataframe(self, dataframe, column_name):\n",
    "        \"\"\"\n",
    "        Ordena un dataframe de menor a mayor según los valores de una columna especificada.\n",
    "\n",
    "        Args:\n",
    "            dataframe (pd.DataFrame): El dataframe a ordenar.\n",
    "            column_name (str): El nombre de la columna según la cual se va a ordenar el dataframe.\n",
    "\n",
    "        Returns:\n",
    "            pd.DataFrame: El dataframe ordenado de menor a mayor según los valores de la columna especificada.\n",
    "        \"\"\"\n",
    "        sorted_dataframe = dataframe.sort_values(by=column_name, ascending=True)\n",
    "        return sorted_dataframe\n",
    "\n",
    "    def sort_and_replace(self, dataframe, column1, column2):\n",
    "        \"\"\"\n",
    "        Ordena un dataframe de menor a mayor según los valores de una columna y reemplaza los valores de otra columna por enteros.\n",
    "\n",
    "        Args:\n",
    "            dataframe (pd.DataFrame): El dataframe a procesar.\n",
    "            column1 (str): El nombre de la primera columna según la cual se va a ordenar el dataframe.\n",
    "            column2 (str): El nombre de la segunda columna cuyos valores se reemplazarán por enteros.\n",
    "\n",
    "        Returns:\n",
    "            pd.DataFrame: El dataframe ordenado y con los valores de la segunda columna reemplazados por enteros.\n",
    "        \"\"\"\n",
    "        # Ordenar dataframe por la columna 1 de menor a mayor\n",
    "        dataframe = dataframe.sort_values(by=column1)\n",
    "\n",
    "        # Reemplazar los valores de la columna 2 por enteros\n",
    "        dataframe[column2] = range(len(dataframe))\n",
    "\n",
    "        return dataframe\n",
    "\n",
    "\n",
    "\n",
    "# Instancia de la clase EDA\n",
    "eda = EDA()"
   ]
  },
  {
   "attachments": {},
   "cell_type": "markdown",
   "metadata": {},
   "source": [
    "<font size=\"4\"><li><left><i>Exportamos Coursera_courses.csv a dataframe</i></left></font>"
   ]
  },
  {
   "cell_type": "code",
   "execution_count": 56,
   "metadata": {},
   "outputs": [],
   "source": [
    "# Path de archivos CSV\n",
    "path = '/Users/negro/Library/CloudStorage/OneDrive-Personal/Documentos/00 Fran/01 - Personales/02-Learn/0. Data Science/0. Data Science/2_projects/e_MOOCs/2_Repo/MOOCs_BA/rawDataSets/Coursera_courses.csv'\n",
    "\n",
    "# Leer y almacenar los archivos CSV en dataframes\n",
    "Coursera_courses = eda.read_csv(path)\n"
   ]
  },
  {
   "attachments": {},
   "cell_type": "markdown",
   "metadata": {},
   "source": [
    "<font size=\"4\"><li><left><i>Obtenemos información del dataframe</i></left></font>"
   ]
  },
  {
   "cell_type": "code",
   "execution_count": 57,
   "metadata": {},
   "outputs": [
    {
     "name": "stdout",
     "output_type": "stream",
     "text": [
      "<class 'pandas.core.frame.DataFrame'>\n",
      "RangeIndex: 623 entries, 0 to 622\n",
      "Data columns (total 4 columns):\n",
      " #   Column       Non-Null Count  Dtype \n",
      "---  ------       --------------  ----- \n",
      " 0   name         623 non-null    object\n",
      " 1   institution  623 non-null    object\n",
      " 2   course_url   623 non-null    object\n",
      " 3   course_id    623 non-null    object\n",
      "dtypes: object(4)\n",
      "memory usage: 19.6+ KB\n"
     ]
    }
   ],
   "source": [
    "Coursera_courses.info()"
   ]
  },
  {
   "attachments": {},
   "cell_type": "markdown",
   "metadata": {},
   "source": [
    "<font size=\"4\"><li><left><i>No se identifican valores null en este dataset.</i></left></font><br>"
   ]
  },
  {
   "attachments": {},
   "cell_type": "markdown",
   "metadata": {},
   "source": [
    "<font size=\"4\"><li><left><i>Clasificamos variables y renombramos columnas:</i></left></font>"
   ]
  },
  {
   "cell_type": "code",
   "execution_count": 58,
   "metadata": {},
   "outputs": [
    {
     "name": "stdout",
     "output_type": "stream",
     "text": [
      "['name', 'institution', 'course_url', 'course_id']\n"
     ]
    }
   ],
   "source": [
    "# Obtener lista de columnas\n",
    "columnas = eda.get_columnas(Coursera_courses)\n",
    "print(columnas)"
   ]
  },
  {
   "attachments": {},
   "cell_type": "markdown",
   "metadata": {},
   "source": [
    "<font size=\"4\"><li><left><i>Asignamos tipos de datos:</i></left></font>"
   ]
  },
  {
   "cell_type": "code",
   "execution_count": 59,
   "metadata": {},
   "outputs": [],
   "source": [
    "# Asignar tipo de dato 'category'\n",
    "columnas_cat = ['name', 'institution']\n",
    "eda.set_columns_dtype_category(Coursera_courses,columnas_cat)\n",
    "\n",
    "# Asignar tipo de dato 'int' a las columnas\n",
    "# columnas_int = []\n",
    "# eda.set_columns_dtype_int(dataframe, columnas_int)\n",
    "\n",
    "# Asignar tipo de dato 'float' a las columnas\n",
    "# columnas_float = []\n",
    "# eda.set_columns_dtype_float(dataframe, columnas_float)\n",
    "\n",
    "# Asignar tipo de dato 'datetime' a la columna con formato 'YYYY-MM-DD'\n",
    "# columna_fecha = []\n",
    "# eda.set_columns_dtype_datetime(dataframe, columna_fecha, formato='%Y-%m-%d')\n",
    "\n"
   ]
  },
  {
   "attachments": {},
   "cell_type": "markdown",
   "metadata": {},
   "source": [
    "<font size=\"4\"><li><left><i>Renombramos columnas:</i></left></font>"
   ]
  },
  {
   "cell_type": "code",
   "execution_count": 60,
   "metadata": {},
   "outputs": [],
   "source": [
    "# Definir un diccionario de mapeo de nombres de columnas\n",
    "column_mapping = {'name': 'nombre_curso', 'institution': 'institucion','course_url': 'url_curso','course_id':'id_curso'}\n",
    "\n",
    "# Llamar al método rename_columns\n",
    "dataframe_modificado = eda.rename_columns(Coursera_courses, column_mapping)\n"
   ]
  },
  {
   "cell_type": "code",
   "execution_count": 61,
   "metadata": {},
   "outputs": [
    {
     "name": "stdout",
     "output_type": "stream",
     "text": [
      "<class 'pandas.core.frame.DataFrame'>\n",
      "RangeIndex: 623 entries, 0 to 622\n",
      "Data columns (total 4 columns):\n",
      " #   Column        Non-Null Count  Dtype   \n",
      "---  ------        --------------  -----   \n",
      " 0   nombre_curso  623 non-null    category\n",
      " 1   institucion   623 non-null    category\n",
      " 2   url_curso     623 non-null    object  \n",
      " 3   id_curso      623 non-null    object  \n",
      "dtypes: category(2), object(2)\n",
      "memory usage: 38.4+ KB\n"
     ]
    }
   ],
   "source": [
    "Coursera_courses.info()"
   ]
  },
  {
   "attachments": {},
   "cell_type": "markdown",
   "metadata": {},
   "source": [
    "<font size=\"4\" color=\"white\"><li><left><i>Eliminamos espacios antes/despues:</i></left></font>"
   ]
  },
  {
   "cell_type": "code",
   "execution_count": 62,
   "metadata": {},
   "outputs": [],
   "source": [
    "# Eliminar espacios alrededor de str\n",
    "# Definir una lista de nombres de columnas a limpiar\n",
    "columnas_a_limpiar = ['nombre_curso', 'institucion', 'url_curso', 'id_curso']\n",
    "\n",
    "# Llamar al método strip_column_values\n",
    "Coursera_courses = eda.strip_column_values(Coursera_courses, columnas_a_limpiar)"
   ]
  },
  {
   "attachments": {},
   "cell_type": "markdown",
   "metadata": {},
   "source": [
    "<font size=\"4\" color=\"white\"><li><left><i>Ordenamos por columna:</i></left></font>"
   ]
  },
  {
   "cell_type": "code",
   "execution_count": 63,
   "metadata": {},
   "outputs": [
    {
     "data": {
      "text/html": [
       "<div>\n",
       "<style scoped>\n",
       "    .dataframe tbody tr th:only-of-type {\n",
       "        vertical-align: middle;\n",
       "    }\n",
       "\n",
       "    .dataframe tbody tr th {\n",
       "        vertical-align: top;\n",
       "    }\n",
       "\n",
       "    .dataframe thead th {\n",
       "        text-align: right;\n",
       "    }\n",
       "</style>\n",
       "<table border=\"1\" class=\"dataframe\">\n",
       "  <thead>\n",
       "    <tr style=\"text-align: right;\">\n",
       "      <th></th>\n",
       "      <th>nombre_curso</th>\n",
       "      <th>institucion</th>\n",
       "      <th>url_curso</th>\n",
       "      <th>id_curso</th>\n",
       "    </tr>\n",
       "  </thead>\n",
       "  <tbody>\n",
       "    <tr>\n",
       "      <th>261</th>\n",
       "      <td>A Crash Course in Causality:  Inferring Causal...</td>\n",
       "      <td>University of Pennsylvania</td>\n",
       "      <td>https://www.coursera.org/learn/crash-course-in...</td>\n",
       "      <td>crash-course-in-causality</td>\n",
       "    </tr>\n",
       "    <tr>\n",
       "      <th>622</th>\n",
       "      <td>A Crash Course in Data Science</td>\n",
       "      <td>Johns Hopkins University</td>\n",
       "      <td>https://www.coursera.org/learn/data-science-co...</td>\n",
       "      <td>data-science-course</td>\n",
       "    </tr>\n",
       "    <tr>\n",
       "      <th>396</th>\n",
       "      <td>A Law Student's Toolkit</td>\n",
       "      <td>Yale University</td>\n",
       "      <td>https://www.coursera.org/learn/law-student</td>\n",
       "      <td>law-student</td>\n",
       "    </tr>\n",
       "    <tr>\n",
       "      <th>9</th>\n",
       "      <td>AI For Everyone</td>\n",
       "      <td>DeepLearning.AI</td>\n",
       "      <td>https://www.coursera.org/learn/ai-for-everyone</td>\n",
       "      <td>ai-for-everyone</td>\n",
       "    </tr>\n",
       "    <tr>\n",
       "      <th>215</th>\n",
       "      <td>AI for Medical Diagnosis</td>\n",
       "      <td>DeepLearning.AI</td>\n",
       "      <td>https://www.coursera.org/learn/ai-for-medical-...</td>\n",
       "      <td>ai-for-medical-diagnosis</td>\n",
       "    </tr>\n",
       "  </tbody>\n",
       "</table>\n",
       "</div>"
      ],
      "text/plain": [
       "                                          nombre_curso  \\\n",
       "261  A Crash Course in Causality:  Inferring Causal...   \n",
       "622                     A Crash Course in Data Science   \n",
       "396                            A Law Student's Toolkit   \n",
       "9                                      AI For Everyone   \n",
       "215                           AI for Medical Diagnosis   \n",
       "\n",
       "                    institucion  \\\n",
       "261  University of Pennsylvania   \n",
       "622    Johns Hopkins University   \n",
       "396             Yale University   \n",
       "9               DeepLearning.AI   \n",
       "215             DeepLearning.AI   \n",
       "\n",
       "                                             url_curso  \\\n",
       "261  https://www.coursera.org/learn/crash-course-in...   \n",
       "622  https://www.coursera.org/learn/data-science-co...   \n",
       "396         https://www.coursera.org/learn/law-student   \n",
       "9       https://www.coursera.org/learn/ai-for-everyone   \n",
       "215  https://www.coursera.org/learn/ai-for-medical-...   \n",
       "\n",
       "                      id_curso  \n",
       "261  crash-course-in-causality  \n",
       "622        data-science-course  \n",
       "396                law-student  \n",
       "9              ai-for-everyone  \n",
       "215   ai-for-medical-diagnosis  "
      ]
     },
     "execution_count": 63,
     "metadata": {},
     "output_type": "execute_result"
    }
   ],
   "source": [
    "# Llamar al método sort_dataframe\n",
    "courcera_courses = eda.sort_dataframe(Coursera_courses, 'nombre_curso')\n",
    "courcera_courses.head()"
   ]
  },
  {
   "attachments": {},
   "cell_type": "markdown",
   "metadata": {},
   "source": [
    " <font size=\"4\" color=\"white\"><li><left><i>Analizamos duplicados:</i></left></font>"
   ]
  },
  {
   "cell_type": "code",
   "execution_count": 64,
   "metadata": {},
   "outputs": [
    {
     "data": {
      "text/plain": [
       "Introduction to Psychology                                                2\n",
       "Machine Learning                                                          1\n",
       "Career 911: Your Future Job in Medicine and Healthcare                    1\n",
       "Introduction to Trading, Machine Learning & GCP                           1\n",
       "Python Programming: A Concise Introduction                                1\n",
       "                                                                         ..\n",
       "Building Scalable Java Microservices with Spring Boot and Spring Cloud    1\n",
       "Introduction to Forensic Science                                          1\n",
       "Google Cloud Product Fundamentals                                         1\n",
       "American Contract Law I                                                   1\n",
       "A Crash Course in Data Science                                            1\n",
       "Name: nombre_curso, Length: 622, dtype: int64"
      ]
     },
     "execution_count": 64,
     "metadata": {},
     "output_type": "execute_result"
    }
   ],
   "source": [
    "# Contamos valor repetidos en 'nombre_curso'\n",
    "Coursera_courses['nombre_curso'].value_counts()"
   ]
  },
  {
   "attachments": {},
   "cell_type": "markdown",
   "metadata": {},
   "source": [
    "<font size=\"4\"><li><left><i>Valores duplicados solo para el curso `Introduction to Psychology`.</i></left></font>"
   ]
  },
  {
   "cell_type": "code",
   "execution_count": 65,
   "metadata": {},
   "outputs": [
    {
     "data": {
      "text/html": [
       "<div>\n",
       "<style scoped>\n",
       "    .dataframe tbody tr th:only-of-type {\n",
       "        vertical-align: middle;\n",
       "    }\n",
       "\n",
       "    .dataframe tbody tr th {\n",
       "        vertical-align: top;\n",
       "    }\n",
       "\n",
       "    .dataframe thead th {\n",
       "        text-align: right;\n",
       "    }\n",
       "</style>\n",
       "<table border=\"1\" class=\"dataframe\">\n",
       "  <thead>\n",
       "    <tr style=\"text-align: right;\">\n",
       "      <th></th>\n",
       "      <th>nombre_curso</th>\n",
       "      <th>institucion</th>\n",
       "      <th>url_curso</th>\n",
       "      <th>id_curso</th>\n",
       "    </tr>\n",
       "  </thead>\n",
       "  <tbody>\n",
       "    <tr>\n",
       "      <th>6</th>\n",
       "      <td>Introduction to Psychology</td>\n",
       "      <td>Yale University</td>\n",
       "      <td>https://www.coursera.org/learn/introduction-ps...</td>\n",
       "      <td>introduction-psychology</td>\n",
       "    </tr>\n",
       "    <tr>\n",
       "      <th>54</th>\n",
       "      <td>Introduction to Psychology</td>\n",
       "      <td>University of Toronto</td>\n",
       "      <td>https://www.coursera.org/learn/introduction-psych</td>\n",
       "      <td>introduction-psych</td>\n",
       "    </tr>\n",
       "  </tbody>\n",
       "</table>\n",
       "</div>"
      ],
      "text/plain": [
       "                  nombre_curso            institucion  \\\n",
       "6   Introduction to Psychology        Yale University   \n",
       "54  Introduction to Psychology  University of Toronto   \n",
       "\n",
       "                                            url_curso                 id_curso  \n",
       "6   https://www.coursera.org/learn/introduction-ps...  introduction-psychology  \n",
       "54  https://www.coursera.org/learn/introduction-psych       introduction-psych  "
      ]
     },
     "execution_count": 65,
     "metadata": {},
     "output_type": "execute_result"
    }
   ],
   "source": [
    "# Traer filas con duplicados\n",
    "filas_duplicadas = eda.get_duplicate_rows(Coursera_courses, 'nombre_curso')\n",
    "filas_duplicadas.head()"
   ]
  },
  {
   "attachments": {},
   "cell_type": "markdown",
   "metadata": {},
   "source": [
    "<font size=\"4\"><li><left><i>Se define que el curso no es necesariamente el mismo, se mantienen ambas filas.</i></left></font>"
   ]
  },
  {
   "cell_type": "code",
   "execution_count": 66,
   "metadata": {},
   "outputs": [
    {
     "data": {
      "text/plain": [
       "University of Pennsylvania       43\n",
       "University of Michigan           31\n",
       "Duke University                  24\n",
       "Google Cloud                     22\n",
       "IBM                              18\n",
       "                                 ..\n",
       "EDHEC Business School             1\n",
       "INSEAD                            1\n",
       "Google - Spectrum Sharing         1\n",
       "New York Institute of Finance     1\n",
       "UCL School of Management          1\n",
       "Name: institucion, Length: 134, dtype: int64"
      ]
     },
     "execution_count": 66,
     "metadata": {},
     "output_type": "execute_result"
    }
   ],
   "source": [
    "# Contamos valor repetidos en 'institucion'\n",
    "Coursera_courses['institucion'].value_counts()"
   ]
  },
  {
   "attachments": {},
   "cell_type": "markdown",
   "metadata": {},
   "source": [
    "<font size=\"4\"><li><left><i>Existen 134 `instituciones` y University of Pennsylvania es el valor más repetido con 43 cursos.  </i></left></font>"
   ]
  },
  {
   "cell_type": "code",
   "execution_count": 67,
   "metadata": {},
   "outputs": [
    {
     "data": {
      "text/plain": [
       "https://www.coursera.org/learn/machine-learning                             1\n",
       "https://www.coursera.org/learn/english-composition                          1\n",
       "https://www.coursera.org/learn/wharton-communication-skills                 1\n",
       "https://www.coursera.org/learn/introduction-trading-machine-learning-gcp    1\n",
       "https://www.coursera.org/learn/python-programming-introduction              1\n",
       "                                                                           ..\n",
       "https://www.coursera.org/learn/solar-energy-basics                          1\n",
       "https://www.coursera.org/learn/bootstrap-4                                  1\n",
       "https://www.coursera.org/learn/google-cloud-java-spring                     1\n",
       "https://www.coursera.org/learn/forensic-science                             1\n",
       "https://www.coursera.org/learn/data-science-course                          1\n",
       "Name: url_curso, Length: 623, dtype: int64"
      ]
     },
     "execution_count": 67,
     "metadata": {},
     "output_type": "execute_result"
    }
   ],
   "source": [
    "# Contamos valor repetidos en 'url_curso'\n",
    "Coursera_courses['url_curso'].value_counts()"
   ]
  },
  {
   "attachments": {},
   "cell_type": "markdown",
   "metadata": {},
   "source": [
    "<font size=\"4\"><li><left><i>Todos valores únicos para `url_curso`.</i></left></font>"
   ]
  },
  {
   "cell_type": "code",
   "execution_count": 68,
   "metadata": {},
   "outputs": [
    {
     "data": {
      "text/plain": [
       "machine-learning                             1\n",
       "english-composition                          1\n",
       "wharton-communication-skills                 1\n",
       "introduction-trading-machine-learning-gcp    1\n",
       "python-programming-introduction              1\n",
       "                                            ..\n",
       "solar-energy-basics                          1\n",
       "bootstrap-4                                  1\n",
       "google-cloud-java-spring                     1\n",
       "forensic-science                             1\n",
       "data-science-course                          1\n",
       "Name: id_curso, Length: 623, dtype: int64"
      ]
     },
     "execution_count": 68,
     "metadata": {},
     "output_type": "execute_result"
    }
   ],
   "source": [
    "# Contamos valor repetidos en 'id_curso'\n",
    "Coursera_courses['id_curso'].value_counts()"
   ]
  },
  {
   "attachments": {},
   "cell_type": "markdown",
   "metadata": {},
   "source": [
    "<font size=\"4\"><li><left><i>Todos valores únicos para `id_curso`.</i></left></font>"
   ]
  },
  {
   "attachments": {},
   "cell_type": "markdown",
   "metadata": {},
   "source": [
    "<font size=\"4\"><li><left><i>Opcional, en caso de neceistar el `id_curso` como `int`:</i></left></font>"
   ]
  },
  {
   "cell_type": "code",
   "execution_count": 50,
   "metadata": {},
   "outputs": [],
   "source": [
    "Coursera_courses = eda.sort_and_replace(Coursera_courses, 'nombre_curso', 'id_curso')"
   ]
  },
  {
   "cell_type": "code",
   "execution_count": 51,
   "metadata": {},
   "outputs": [
    {
     "data": {
      "text/html": [
       "<div>\n",
       "<style scoped>\n",
       "    .dataframe tbody tr th:only-of-type {\n",
       "        vertical-align: middle;\n",
       "    }\n",
       "\n",
       "    .dataframe tbody tr th {\n",
       "        vertical-align: top;\n",
       "    }\n",
       "\n",
       "    .dataframe thead th {\n",
       "        text-align: right;\n",
       "    }\n",
       "</style>\n",
       "<table border=\"1\" class=\"dataframe\">\n",
       "  <thead>\n",
       "    <tr style=\"text-align: right;\">\n",
       "      <th></th>\n",
       "      <th>nombre_curso</th>\n",
       "      <th>institucion</th>\n",
       "      <th>url_curso</th>\n",
       "      <th>id_curso</th>\n",
       "    </tr>\n",
       "  </thead>\n",
       "  <tbody>\n",
       "    <tr>\n",
       "      <th>261</th>\n",
       "      <td>A Crash Course in Causality:  Inferring Causal...</td>\n",
       "      <td>University of Pennsylvania</td>\n",
       "      <td>https://www.coursera.org/learn/crash-course-in...</td>\n",
       "      <td>0</td>\n",
       "    </tr>\n",
       "    <tr>\n",
       "      <th>622</th>\n",
       "      <td>A Crash Course in Data Science</td>\n",
       "      <td>Johns Hopkins University</td>\n",
       "      <td>https://www.coursera.org/learn/data-science-co...</td>\n",
       "      <td>1</td>\n",
       "    </tr>\n",
       "    <tr>\n",
       "      <th>396</th>\n",
       "      <td>A Law Student's Toolkit</td>\n",
       "      <td>Yale University</td>\n",
       "      <td>https://www.coursera.org/learn/law-student</td>\n",
       "      <td>2</td>\n",
       "    </tr>\n",
       "    <tr>\n",
       "      <th>9</th>\n",
       "      <td>AI For Everyone</td>\n",
       "      <td>DeepLearning.AI</td>\n",
       "      <td>https://www.coursera.org/learn/ai-for-everyone</td>\n",
       "      <td>3</td>\n",
       "    </tr>\n",
       "    <tr>\n",
       "      <th>215</th>\n",
       "      <td>AI for Medical Diagnosis</td>\n",
       "      <td>DeepLearning.AI</td>\n",
       "      <td>https://www.coursera.org/learn/ai-for-medical-...</td>\n",
       "      <td>4</td>\n",
       "    </tr>\n",
       "  </tbody>\n",
       "</table>\n",
       "</div>"
      ],
      "text/plain": [
       "                                          nombre_curso  \\\n",
       "261  A Crash Course in Causality:  Inferring Causal...   \n",
       "622                     A Crash Course in Data Science   \n",
       "396                            A Law Student's Toolkit   \n",
       "9                                      AI For Everyone   \n",
       "215                           AI for Medical Diagnosis   \n",
       "\n",
       "                    institucion  \\\n",
       "261  University of Pennsylvania   \n",
       "622    Johns Hopkins University   \n",
       "396             Yale University   \n",
       "9               DeepLearning.AI   \n",
       "215             DeepLearning.AI   \n",
       "\n",
       "                                             url_curso  id_curso  \n",
       "261  https://www.coursera.org/learn/crash-course-in...         0  \n",
       "622  https://www.coursera.org/learn/data-science-co...         1  \n",
       "396         https://www.coursera.org/learn/law-student         2  \n",
       "9       https://www.coursera.org/learn/ai-for-everyone         3  \n",
       "215  https://www.coursera.org/learn/ai-for-medical-...         4  "
      ]
     },
     "execution_count": 51,
     "metadata": {},
     "output_type": "execute_result"
    }
   ],
   "source": [
    "Coursera_courses.head()"
   ]
  },
  {
   "cell_type": "code",
   "execution_count": 52,
   "metadata": {},
   "outputs": [
    {
     "name": "stdout",
     "output_type": "stream",
     "text": [
      "<class 'pandas.core.frame.DataFrame'>\n",
      "Int64Index: 623 entries, 261 to 365\n",
      "Data columns (total 4 columns):\n",
      " #   Column        Non-Null Count  Dtype \n",
      "---  ------        --------------  ----- \n",
      " 0   nombre_curso  623 non-null    object\n",
      " 1   institucion   623 non-null    object\n",
      " 2   url_curso     623 non-null    object\n",
      " 3   id_curso      623 non-null    int64 \n",
      "dtypes: int64(1), object(3)\n",
      "memory usage: 24.3+ KB\n"
     ]
    }
   ],
   "source": [
    "Coursera_courses.info()"
   ]
  }
 ],
 "metadata": {
  "kernelspec": {
   "display_name": "Python 3",
   "language": "python",
   "name": "python3"
  },
  "language_info": {
   "codemirror_mode": {
    "name": "ipython",
    "version": 3
   },
   "file_extension": ".py",
   "mimetype": "text/x-python",
   "name": "python",
   "nbconvert_exporter": "python",
   "pygments_lexer": "ipython3",
   "version": "3.10.0"
  },
  "orig_nbformat": 4
 },
 "nbformat": 4,
 "nbformat_minor": 2
}
