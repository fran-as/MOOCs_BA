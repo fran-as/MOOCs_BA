{
 "cells": [
  {
   "attachments": {},
   "cell_type": "markdown",
   "metadata": {},
   "source": [
    "<font size=\"10\" color=\"purple\"><left><b><i><u>Exploratory Data Analysis #1</u></i></b></left></font>"
   ]
  },
  {
   "attachments": {},
   "cell_type": "markdown",
   "metadata": {},
   "source": [
    "<font size=\"4\"><li><left><i>Instanciamos clase EDA con los métodos necesarios</i></left></font>\n"
   ]
  },
  {
   "cell_type": "code",
   "execution_count": 34,
   "metadata": {},
   "outputs": [],
   "source": [
    "import warnings\n",
    "warnings.filterwarnings(\"ignore\")\n",
    "import pandas as pd\n",
    "import numpy as np\n",
    "import matplotlib.pyplot as plt\n",
    "import seaborn as sns\n",
    "import pandas_profiling as pdpf\n",
    "from IPython.display import HTML\n",
    "import sweetviz as sv\n",
    "\n",
    "class EDA:\n",
    "    def read_csv(self, file_path):\n",
    "        \"\"\"\n",
    "        Lee un archivo CSV y devuelve un dataframe.\n",
    "\n",
    "        Args:\n",
    "            file_path (str): Ruta al archivo CSV a leer.\n",
    "\n",
    "        Returns:\n",
    "            pd.DataFrame: El dataframe con los datos del archivo CSV.\n",
    "        \"\"\"\n",
    "        dataframe = pd.read_csv(file_path,encoding='UTF-8')\n",
    "        return dataframe\n",
    "\n",
    "    def get_columnas(self, dataframe):\n",
    "        \"\"\"\n",
    "        Obtiene una lista de las columnas de un dataframe.\n",
    "\n",
    "        Args:\n",
    "            dataframe (pd.DataFrame): El dataframe del cual se desean obtener las columnas.\n",
    "\n",
    "        Returns:\n",
    "            list: Lista de las columnas del dataframe.\n",
    "        \"\"\"\n",
    "        columnas = dataframe.columns.tolist()\n",
    "        return columnas\n",
    "\n",
    "    def set_columns_dtype_category(self, dataframe, columnas):\n",
    "        \"\"\"\n",
    "        Asigna el tipo de dato \"category\" a una lista de columnas en un dataframe.\n",
    "\n",
    "        Args:\n",
    "            dataframe (pd.DataFrame): El dataframe al que se desea asignar los tipos de dato.\n",
    "            columnas (list): La lista de columnas a las que se desea asignar el tipo de dato \"category\".\n",
    "        \"\"\"\n",
    "        dataframe[columnas] = dataframe[columnas].astype('category')\n",
    "\n",
    "    def set_columns_dtype_int(self, dataframe, columnas):\n",
    "        \"\"\"\n",
    "        Asigna el tipo de dato \"int\" a una lista de columnas en un dataframe.\n",
    "        Los valores nulos en las columnas seleccionadas se reemplazan por 0.\n",
    "\n",
    "        Args:\n",
    "            dataframe (pd.DataFrame): El dataframe al que se desea asignar los tipos de dato.\n",
    "            columnas (list): La lista de columnas a las que se desea asignar el tipo de dato \"int\".\n",
    "        \"\"\"\n",
    "        dataframe[columnas] = dataframe[columnas].astype(int).fillna(0)\n",
    "\n",
    "    def set_columns_dtype_float(self, dataframe, columnas):\n",
    "        \"\"\"\n",
    "        Asigna el tipo de dato \"float\" a una lista de columnas en un dataframe.\n",
    "\n",
    "        Args:\n",
    "            dataframe (pd.DataFrame): El dataframe al que se desea asignar los tipos de dato.\n",
    "            columnas (list): La lista de columnas a las que se desea asignar el tipo de dato \"float\".\n",
    "        \"\"\"\n",
    "        dataframe[columnas] = dataframe[columnas].astype(float)\n",
    "\n",
    "    def set_columns_dtype_datetime(self, dataframe, columnas, formato='%Y-%m-%d'):\n",
    "        \"\"\"\n",
    "        Asigna el tipo de dato \"datetime\" a una lista de columnas en un dataframe, con el formato especificado.\n",
    "\n",
    "        Args:\n",
    "            dataframe (pd.DataFrame): El dataframe al que se desea asignar los tipos de dato.\n",
    "            columnas (list): La lista de columnas a las que se desea asignar el tipo de dato \"datetime\".\n",
    "            formato (str): El formato de fecha a utilizar (por defecto: \"%Y-%m-%d\").\n",
    "        \"\"\"\n",
    "        dataframe[columnas] = pd.to_datetime(dataframe[columnas], format=formato)\n",
    "\n",
    "    def rename_columns(self, dataframe, column_mapping):\n",
    "        \"\"\"\n",
    "        Modifica los nombres de las columnas de un dataframe.\n",
    "\n",
    "        Args:\n",
    "            dataframe (pd.DataFrame): El dataframe al que se le van a modificar los nombres de las columnas.\n",
    "            column_mapping (dict): Un diccionario que contiene el mapeo de los nombres actuales de las columnas a los nuevos nombres.\n",
    "\n",
    "        Returns:\n",
    "            pd.DataFrame: El dataframe con los nombres de columnas modificados.\n",
    "        \"\"\"\n",
    "        dataframe.rename(columns=column_mapping, inplace=True)\n",
    "        return dataframe\n",
    "\n",
    "    def get_duplicate_rows(self, dataframe, column):\n",
    "        \"\"\"\n",
    "        Devuelve las filas del dataframe que tienen valores repetidos en una columna específica,\n",
    "        junto con la cantidad de repeticiones y el porcentaje respecto al total de líneas.\n",
    "\n",
    "        Args:\n",
    "            dataframe (pd.DataFrame): El dataframe a analizar.\n",
    "            column (str): El nombre de la columna en la cual buscar repeticiones.\n",
    "\n",
    "        Returns:\n",
    "            pd.DataFrame: Un dataframe con las filas que se repiten, la cantidad de repeticiones\n",
    "                        y el porcentaje respecto al total de líneas.\n",
    "        \"\"\"\n",
    "        duplicated_rows = dataframe[dataframe.duplicated(subset=column, keep=False)]\n",
    "        duplicated_counts = duplicated_rows[column].value_counts().reset_index()\n",
    "        duplicated_counts.columns = [column, 'Cantidad']\n",
    "        duplicated_counts['Porcentaje'] = duplicated_counts['Cantidad'] / len(dataframe) * 100\n",
    "        return duplicated_counts\n",
    "    \n",
    "    def get_duplicate_rows_2(self, dataframe, column):\n",
    "        \"\"\"\n",
    "        Devuelve las filas del dataframe que tienen valores repetidos en una columna específica.\n",
    "        Incluye las otras columnas del dataframe, la cantidad y el porcentaje de filas duplicadas.\n",
    "        Ordena el resultado por los valores de la columna especificada.\n",
    "\n",
    "        Args:\n",
    "            dataframe (pd.DataFrame): El dataframe a analizar.\n",
    "            column (str): El nombre de la columna en la que se buscarán valores duplicados.\n",
    "\n",
    "        Returns:\n",
    "            pd.DataFrame: El dataframe con las filas duplicadas, incluyendo las otras columnas,\n",
    "                        la cantidad y el porcentaje de filas duplicadas. Ordenado por la columna especificada.\n",
    "        \"\"\"\n",
    "        duplicates = dataframe[dataframe.duplicated(subset=column, keep=False)]\n",
    "        duplicate_counts = duplicates[column].value_counts()\n",
    "        duplicate_percentages = duplicate_counts / len(dataframe) * 100\n",
    "\n",
    "        duplicates['Duplicate Count'] = duplicates[column].map(duplicate_counts)\n",
    "        duplicates['Duplicate Percentage'] = duplicates[column].map(duplicate_percentages)\n",
    "\n",
    "        duplicates = duplicates.sort_values(by=column)\n",
    "\n",
    "        return duplicates\n",
    "\n",
    "    def strip_column_values(self, dataframe, column_names):\n",
    "        \"\"\"\n",
    "        Elimina los espacios en blanco al inicio y al final de los valores de las filas de las columnas especificadas.\n",
    "\n",
    "        Args:\n",
    "            dataframe (pd.DataFrame): El dataframe en el cual se van a limpiar los valores de las columnas.\n",
    "            column_names (list): Una lista de nombres de columnas a las cuales se les va a aplicar el método .strip().\n",
    "\n",
    "        Returns:\n",
    "            pd.DataFrame: El dataframe con los valores de las filas de las columnas especificadas limpios de espacios en blanco.\n",
    "        \"\"\"\n",
    "        for column in column_names:\n",
    "            dataframe[column] = dataframe[column].str.strip()\n",
    "        return dataframe\n",
    "\n",
    "    def sort_dataframe(self, dataframe, column, order='a'):\n",
    "        \"\"\"\n",
    "        Ordena un dataframe por una columna especificada.\n",
    "\n",
    "        Args:\n",
    "            dataframe (pd.DataFrame): El dataframe a ordenar.\n",
    "            column (str): El nombre de la columna por la cual ordenar el dataframe.\n",
    "            order (str, opcional): El orden de clasificación. 'a' para ascendente (predeterminado),\n",
    "                'd' para descendente.\n",
    "\n",
    "        Returns:\n",
    "            pd.DataFrame: El dataframe ordenado por la columna especificada.\n",
    "        \"\"\"\n",
    "        if order == 'd':\n",
    "            dataframe = dataframe.sort_values(column, ascending=False)\n",
    "        else:\n",
    "            dataframe = dataframe.sort_values(column)\n",
    "\n",
    "        return dataframe\n",
    "\n",
    "    def sort_and_replace(self, dataframe, column1, column2):\n",
    "        \"\"\"\n",
    "        Ordena un dataframe de menor a mayor según los valores de una columna y reemplaza los valores de otra columna por enteros.\n",
    "\n",
    "        Args:\n",
    "            dataframe (pd.DataFrame): El dataframe a procesar.\n",
    "            column1 (str): El nombre de la primera columna según la cual se va a ordenar el dataframe.\n",
    "            column2 (str): El nombre de la segunda columna cuyos valores se reemplazarán por enteros.\n",
    "\n",
    "        Returns:\n",
    "            pd.DataFrame: El dataframe ordenado y con los valores de la segunda columna reemplazados por enteros.\n",
    "        \"\"\"\n",
    "        # Ordenar dataframe por la columna 1 de menor a mayor\n",
    "        dataframe = dataframe.sort_values(by=column1)\n",
    "\n",
    "        # Reemplazar los valores de la columna 2 por enteros\n",
    "        dataframe[column2] = range(len(dataframe))\n",
    "\n",
    "        return dataframe\n",
    "        \n",
    "    def convert_date_format(self, dataframe, columns):\n",
    "        \"\"\"\n",
    "        Convierte el formato de fecha de columnas en un dataframe de 'MMM DD, YYYY' a 'YYYY-MM-DD'\n",
    "        y asigna el dtype datetime a las columnas especificadas.\n",
    "\n",
    "        Args:\n",
    "            dataframe (pd.DataFrame): El dataframe a procesar.\n",
    "            columns (list): Una lista de nombres de columnas a convertir y asignar el dtype datetime.\n",
    "\n",
    "        Returns:\n",
    "            pd.DataFrame: El dataframe con los formatos de fecha modificados y dtype datetime asignado.\n",
    "        \"\"\"\n",
    "        for column in columns:\n",
    "            dataframe[column] = pd.to_datetime(dataframe[column], format='%b %d, %Y').dt.strftime('%Y-%m-%d')\n",
    "            dataframe[column] = pd.to_datetime(dataframe[column])\n",
    "            \n",
    "        return dataframe\n",
    "\n",
    "    def remove_prefix(self, dataframe, column, prefix):\n",
    "        \"\"\"\n",
    "        Elimina un prefijo de las filas de una columna en un dataframe.\n",
    "\n",
    "        Args:\n",
    "            dataframe (pd.DataFrame): El dataframe a procesar.\n",
    "            column (str): El nombre de la columna en la que se eliminará el prefijo.\n",
    "            prefix (str): El prefijo a eliminar de las filas de la columna.\n",
    "\n",
    "        Returns:\n",
    "            pd.DataFrame: El dataframe con el prefijo eliminado de las filas de la columna especificada.\n",
    "        \"\"\"\n",
    "        dataframe[column] = dataframe[column].str.lstrip(prefix)\n",
    "        return dataframe\n",
    "    \n",
    "    def transform_values(self, dataframe, columns, symbols):\n",
    "        \"\"\"\n",
    "        Transforma los valores de las columnas especificadas en el dataframe, eliminando símbolos, realizando un strip y convirtiendo a minúscula.\n",
    "\n",
    "        Args:\n",
    "            dataframe (pd.DataFrame): El dataframe a transformar.\n",
    "            columns (list): La lista de nombres de columnas a transformar.\n",
    "            symbols (list): La lista de símbolos a eliminar.\n",
    "\n",
    "        Returns:\n",
    "            pd.DataFrame: El dataframe con los valores transformados.\n",
    "        \"\"\"\n",
    "        for column in columns:\n",
    "            for symbol in symbols:\n",
    "                dataframe[column] = dataframe[column].str.replace(symbol, '')\n",
    "            dataframe[column] = dataframe[column].str.strip().str.lower()\n",
    "\n",
    "        return dataframe\n",
    "\n",
    "    def replace_na_values_obj(self, dataframe, columns, replacement):\n",
    "        \"\"\"\n",
    "        Reemplaza los valores NaN en las columnas especificadas del dataframe con un valor de reemplazo.\n",
    "\n",
    "        Args:\n",
    "            dataframe (pd.DataFrame): El dataframe en el que se reemplazarán los valores NaN.\n",
    "            columns (list): La lista de nombres de columnas en las que se realizará el reemplazo.\n",
    "            replacement (str): El valor de reemplazo para los valores NaN.\n",
    "\n",
    "        Returns:\n",
    "            pd.DataFrame: El dataframe con los valores NaN reemplazados.\n",
    "        \"\"\"\n",
    "        dataframe[columns] = dataframe[columns].fillna(replacement)\n",
    "        return dataframe\n",
    "\n",
    "    def convert_values_to_int(self,dataframe, columns, str_to_remove):\n",
    "        \"\"\"\n",
    "        Convierte los valores de las columnas seleccionadas del dataframe en enteros.\n",
    "\n",
    "        Los valores de las columnas seleccionadas que contengan el str indicado se eliminan.\n",
    "        Los valores restantes se convierten a enteros.\n",
    "\n",
    "        Args:\n",
    "            dataframe (pd.DataFrame): El dataframe original.\n",
    "            columns (list): Lista de nombres de columnas a modificar.\n",
    "            str_to_remove (str): El str a eliminar de los valores de las columnas.\n",
    "\n",
    "        Returns:\n",
    "            pd.DataFrame: El dataframe modificado con los valores convertidos a enteros.\n",
    "        \"\"\"\n",
    "        for column in columns:\n",
    "            dataframe[column] = dataframe[column].str.replace(str_to_remove, '')\n",
    "            dataframe[column] = pd.to_numeric(dataframe[column], errors='coerce').astype(pd.Int64Dtype())\n",
    "\n",
    "        return dataframe\n",
    "\n",
    "    def plot_histogram(s, dataframe, column):\n",
    "        \"\"\"\n",
    "        Crea un histograma utilizando countplot para una columna dada en un dataframe.\n",
    "\n",
    "        Args:\n",
    "            dataframe (pd.DataFrame): El dataframe que contiene los datos.\n",
    "            column (str): El nombre de la columna para el histograma.\n",
    "        \"\"\"\n",
    "        sns.countplot(data=dataframe, x=column)\n",
    "        plt.title(f'Histograma de {column}')\n",
    "        plt.xlabel(column)\n",
    "        plt.ylabel('Frecuencia')\n",
    "        plt.xticks(rotation=90)\n",
    "        plt.show()\n",
    "\n",
    "\n",
    "# Instancia de la clase EDA\n",
    "eda = EDA()"
   ]
  },
  {
   "attachments": {},
   "cell_type": "markdown",
   "metadata": {},
   "source": [
    "<font size=\"4\"><li><left><i>Exportamos Coursera_courses.csv a dataframe</i></left></font>"
   ]
  },
  {
   "cell_type": "code",
   "execution_count": 18,
   "metadata": {},
   "outputs": [],
   "source": [
    "# Path de archivos CSV\n",
    "path = '/Users/negro/Library/CloudStorage/OneDrive-Personal/Documentos/00 Fran/01 - Personales/02-Learn/0. Data Science/0. Data Science/2_projects/e_MOOCs/2_Repo/MOOCs_BA/rawDataSets/Coursera_courses.csv'\n",
    "\n",
    "# Leer y almacenar los archivos CSV en dataframes\n",
    "Coursera_courses = eda.read_csv(path)\n"
   ]
  },
  {
   "attachments": {},
   "cell_type": "markdown",
   "metadata": {},
   "source": [
    "<font size=\"4\"><li><left><i>Obtenemos información del dataframe</i></left></font>"
   ]
  },
  {
   "cell_type": "code",
   "execution_count": 19,
   "metadata": {},
   "outputs": [
    {
     "name": "stdout",
     "output_type": "stream",
     "text": [
      "<class 'pandas.core.frame.DataFrame'>\n",
      "RangeIndex: 623 entries, 0 to 622\n",
      "Data columns (total 4 columns):\n",
      " #   Column       Non-Null Count  Dtype \n",
      "---  ------       --------------  ----- \n",
      " 0   name         623 non-null    object\n",
      " 1   institution  623 non-null    object\n",
      " 2   course_url   623 non-null    object\n",
      " 3   course_id    623 non-null    object\n",
      "dtypes: object(4)\n",
      "memory usage: 19.6+ KB\n"
     ]
    }
   ],
   "source": [
    "Coursera_courses.info()"
   ]
  },
  {
   "cell_type": "code",
   "execution_count": null,
   "metadata": {},
   "outputs": [],
   "source": [
    "# Generar el perfil del dataframe\n",
    "profile = Coursera_courses.profile_report(title='Informe de Pandas-Profiling', explorative=True)\n",
    "# Guardar el informe en un archivo HTML\n",
    "profile.to_file('/Users/negro/Library/CloudStorage/OneDrive-Personal/Documentos/00 Fran/01 - Personales/02-Learn/0. Data Science/0. Data Science/2_projects/e_MOOCs/2_Repo/MOOCs_BA/reports/Coursera_courses.html')\n",
    "# Cargar y mostrar el informe HTML\n",
    "report_html = open('/Users/negro/Library/CloudStorage/OneDrive-Personal/Documentos/00 Fran/01 - Personales/02-Learn/0. Data Science/0. Data Science/2_projects/e_MOOCs/2_Repo/MOOCs_BA/reports/Coursera_courses.html', 'r').read()\n",
    "display(HTML(report_html))\n"
   ]
  },
  {
   "attachments": {},
   "cell_type": "markdown",
   "metadata": {},
   "source": [
    "<font size=\"4\"><li><left><i>No se identifican valores null en este dataset.</i></left></font><br>"
   ]
  },
  {
   "attachments": {},
   "cell_type": "markdown",
   "metadata": {},
   "source": [
    "<font size=\"4\"><li><left><i>Clasificamos variables y renombramos columnas:</i></left></font>"
   ]
  },
  {
   "cell_type": "code",
   "execution_count": 20,
   "metadata": {},
   "outputs": [
    {
     "data": {
      "text/html": [
       "<div>\n",
       "<style scoped>\n",
       "    .dataframe tbody tr th:only-of-type {\n",
       "        vertical-align: middle;\n",
       "    }\n",
       "\n",
       "    .dataframe tbody tr th {\n",
       "        vertical-align: top;\n",
       "    }\n",
       "\n",
       "    .dataframe thead th {\n",
       "        text-align: right;\n",
       "    }\n",
       "</style>\n",
       "<table border=\"1\" class=\"dataframe\">\n",
       "  <thead>\n",
       "    <tr style=\"text-align: right;\">\n",
       "      <th></th>\n",
       "      <th>name</th>\n",
       "      <th>institution</th>\n",
       "      <th>course_url</th>\n",
       "      <th>course_id</th>\n",
       "    </tr>\n",
       "  </thead>\n",
       "  <tbody>\n",
       "    <tr>\n",
       "      <th>0</th>\n",
       "      <td>Machine Learning</td>\n",
       "      <td>Stanford University</td>\n",
       "      <td>https://www.coursera.org/learn/machine-learning</td>\n",
       "      <td>machine-learning</td>\n",
       "    </tr>\n",
       "    <tr>\n",
       "      <th>1</th>\n",
       "      <td>Indigenous Canada</td>\n",
       "      <td>University of Alberta</td>\n",
       "      <td>https://www.coursera.org/learn/indigenous-canada</td>\n",
       "      <td>indigenous-canada</td>\n",
       "    </tr>\n",
       "    <tr>\n",
       "      <th>2</th>\n",
       "      <td>The Science of Well-Being</td>\n",
       "      <td>Yale University</td>\n",
       "      <td>https://www.coursera.org/learn/the-science-of-...</td>\n",
       "      <td>the-science-of-well-being</td>\n",
       "    </tr>\n",
       "    <tr>\n",
       "      <th>3</th>\n",
       "      <td>Technical Support Fundamentals</td>\n",
       "      <td>Google</td>\n",
       "      <td>https://www.coursera.org/learn/technical-suppo...</td>\n",
       "      <td>technical-support-fundamentals</td>\n",
       "    </tr>\n",
       "    <tr>\n",
       "      <th>4</th>\n",
       "      <td>Become a CBRS Certified Professional Installer...</td>\n",
       "      <td>Google - Spectrum Sharing</td>\n",
       "      <td>https://www.coursera.org/learn/google-cbrs-cpi...</td>\n",
       "      <td>google-cbrs-cpi-training</td>\n",
       "    </tr>\n",
       "  </tbody>\n",
       "</table>\n",
       "</div>"
      ],
      "text/plain": [
       "                                                name  \\\n",
       "0                                   Machine Learning   \n",
       "1                                  Indigenous Canada   \n",
       "2                          The Science of Well-Being   \n",
       "3                     Technical Support Fundamentals   \n",
       "4  Become a CBRS Certified Professional Installer...   \n",
       "\n",
       "                 institution  \\\n",
       "0        Stanford University   \n",
       "1      University of Alberta   \n",
       "2            Yale University   \n",
       "3                     Google   \n",
       "4  Google - Spectrum Sharing   \n",
       "\n",
       "                                          course_url  \\\n",
       "0    https://www.coursera.org/learn/machine-learning   \n",
       "1   https://www.coursera.org/learn/indigenous-canada   \n",
       "2  https://www.coursera.org/learn/the-science-of-...   \n",
       "3  https://www.coursera.org/learn/technical-suppo...   \n",
       "4  https://www.coursera.org/learn/google-cbrs-cpi...   \n",
       "\n",
       "                        course_id  \n",
       "0                machine-learning  \n",
       "1               indigenous-canada  \n",
       "2       the-science-of-well-being  \n",
       "3  technical-support-fundamentals  \n",
       "4        google-cbrs-cpi-training  "
      ]
     },
     "execution_count": 20,
     "metadata": {},
     "output_type": "execute_result"
    }
   ],
   "source": [
    "Coursera_courses.head()"
   ]
  },
  {
   "cell_type": "code",
   "execution_count": 22,
   "metadata": {},
   "outputs": [
    {
     "name": "stdout",
     "output_type": "stream",
     "text": [
      "['name', 'institution', 'course_url', 'course_id']\n"
     ]
    }
   ],
   "source": [
    "# Obtener lista de columnas\n",
    "columnas = eda.get_columnas(Coursera_courses)\n",
    "print(columnas)"
   ]
  },
  {
   "attachments": {},
   "cell_type": "markdown",
   "metadata": {},
   "source": [
    "<font size=\"4\"><li><left><i>Clasificamos variables:</i></left></font><br>\n",
    "<br>\n",
    "<font size=\"4\"><left><i>- Nominales: `name`, `institution` y `course_url`</i></left></font><br>\n",
    "<br>\n",
    "<font size=\"4\"><li><left><i>Posible PK:</i></left></font><br>\n",
    "<br>\n",
    "<font size=\"4\"><left><i>- `course_id`</i></left></font><br>"
   ]
  },
  {
   "attachments": {},
   "cell_type": "markdown",
   "metadata": {},
   "source": [
    "<font size=\"4\"><li><left><i>Es por referencia a los otros datasets, que se define modificar el nobre de `name` por `title`, que es el que definiremos para llamar al curso en el resto de los datasets.</i></left></font>"
   ]
  },
  {
   "cell_type": "code",
   "execution_count": 24,
   "metadata": {},
   "outputs": [],
   "source": [
    "# Definir un diccionario de mapeo de nombres de columnas\n",
    "column_mapping = {'name':'title'}\n",
    "\n",
    "# Llamar al método rename_columns\n",
    "Coursera_courses = eda.rename_columns(Coursera_courses, column_mapping)"
   ]
  },
  {
   "attachments": {},
   "cell_type": "markdown",
   "metadata": {},
   "source": [
    "<font size=\"4\" color=\"white\"><li><left><i>Eliminamos espacios antes/despues:</i></left></font>"
   ]
  },
  {
   "cell_type": "code",
   "execution_count": 23,
   "metadata": {},
   "outputs": [],
   "source": [
    "# Eliminar espacios alrededor de str\n",
    "# Definir una lista de nombres de columnas a limpiar\n",
    "columnas_a_limpiar = ['name', 'institution', 'course_url', 'course_id']\n",
    "\n",
    "# Llamar al método strip_column_values\n",
    "Coursera_courses = eda.strip_column_values(Coursera_courses, columnas_a_limpiar)"
   ]
  },
  {
   "attachments": {},
   "cell_type": "markdown",
   "metadata": {},
   "source": [
    "<font size=\"4\" color=\"white\"><li><left><i>Ordenamos por columna:</i></left></font>"
   ]
  },
  {
   "cell_type": "code",
   "execution_count": 26,
   "metadata": {},
   "outputs": [
    {
     "data": {
      "text/html": [
       "<div>\n",
       "<style scoped>\n",
       "    .dataframe tbody tr th:only-of-type {\n",
       "        vertical-align: middle;\n",
       "    }\n",
       "\n",
       "    .dataframe tbody tr th {\n",
       "        vertical-align: top;\n",
       "    }\n",
       "\n",
       "    .dataframe thead th {\n",
       "        text-align: right;\n",
       "    }\n",
       "</style>\n",
       "<table border=\"1\" class=\"dataframe\">\n",
       "  <thead>\n",
       "    <tr style=\"text-align: right;\">\n",
       "      <th></th>\n",
       "      <th>title</th>\n",
       "      <th>institution</th>\n",
       "      <th>course_url</th>\n",
       "      <th>course_id</th>\n",
       "    </tr>\n",
       "  </thead>\n",
       "  <tbody>\n",
       "    <tr>\n",
       "      <th>261</th>\n",
       "      <td>A Crash Course in Causality:  Inferring Causal...</td>\n",
       "      <td>University of Pennsylvania</td>\n",
       "      <td>https://www.coursera.org/learn/crash-course-in...</td>\n",
       "      <td>crash-course-in-causality</td>\n",
       "    </tr>\n",
       "    <tr>\n",
       "      <th>622</th>\n",
       "      <td>A Crash Course in Data Science</td>\n",
       "      <td>Johns Hopkins University</td>\n",
       "      <td>https://www.coursera.org/learn/data-science-co...</td>\n",
       "      <td>data-science-course</td>\n",
       "    </tr>\n",
       "    <tr>\n",
       "      <th>396</th>\n",
       "      <td>A Law Student's Toolkit</td>\n",
       "      <td>Yale University</td>\n",
       "      <td>https://www.coursera.org/learn/law-student</td>\n",
       "      <td>law-student</td>\n",
       "    </tr>\n",
       "    <tr>\n",
       "      <th>9</th>\n",
       "      <td>AI For Everyone</td>\n",
       "      <td>DeepLearning.AI</td>\n",
       "      <td>https://www.coursera.org/learn/ai-for-everyone</td>\n",
       "      <td>ai-for-everyone</td>\n",
       "    </tr>\n",
       "    <tr>\n",
       "      <th>215</th>\n",
       "      <td>AI for Medical Diagnosis</td>\n",
       "      <td>DeepLearning.AI</td>\n",
       "      <td>https://www.coursera.org/learn/ai-for-medical-...</td>\n",
       "      <td>ai-for-medical-diagnosis</td>\n",
       "    </tr>\n",
       "  </tbody>\n",
       "</table>\n",
       "</div>"
      ],
      "text/plain": [
       "                                                 title  \\\n",
       "261  A Crash Course in Causality:  Inferring Causal...   \n",
       "622                     A Crash Course in Data Science   \n",
       "396                            A Law Student's Toolkit   \n",
       "9                                      AI For Everyone   \n",
       "215                           AI for Medical Diagnosis   \n",
       "\n",
       "                    institution  \\\n",
       "261  University of Pennsylvania   \n",
       "622    Johns Hopkins University   \n",
       "396             Yale University   \n",
       "9               DeepLearning.AI   \n",
       "215             DeepLearning.AI   \n",
       "\n",
       "                                            course_url  \\\n",
       "261  https://www.coursera.org/learn/crash-course-in...   \n",
       "622  https://www.coursera.org/learn/data-science-co...   \n",
       "396         https://www.coursera.org/learn/law-student   \n",
       "9       https://www.coursera.org/learn/ai-for-everyone   \n",
       "215  https://www.coursera.org/learn/ai-for-medical-...   \n",
       "\n",
       "                     course_id  \n",
       "261  crash-course-in-causality  \n",
       "622        data-science-course  \n",
       "396                law-student  \n",
       "9              ai-for-everyone  \n",
       "215   ai-for-medical-diagnosis  "
      ]
     },
     "execution_count": 26,
     "metadata": {},
     "output_type": "execute_result"
    }
   ],
   "source": [
    "# Llamar al método sort_dataframe\n",
    "courcera_courses = eda.sort_dataframe(Coursera_courses, 'title')\n",
    "courcera_courses.head()"
   ]
  },
  {
   "attachments": {},
   "cell_type": "markdown",
   "metadata": {},
   "source": [
    " <font size=\"4\" color=\"white\"><li><left><i>Analizamos duplicados:</i></left></font>"
   ]
  },
  {
   "cell_type": "code",
   "execution_count": 28,
   "metadata": {},
   "outputs": [
    {
     "data": {
      "text/plain": [
       "Introduction to Psychology                                                2\n",
       "Machine Learning                                                          1\n",
       "Career 911: Your Future Job in Medicine and Healthcare                    1\n",
       "Introduction to Trading, Machine Learning & GCP                           1\n",
       "Python Programming: A Concise Introduction                                1\n",
       "                                                                         ..\n",
       "Building Scalable Java Microservices with Spring Boot and Spring Cloud    1\n",
       "Introduction to Forensic Science                                          1\n",
       "Google Cloud Product Fundamentals                                         1\n",
       "American Contract Law I                                                   1\n",
       "A Crash Course in Data Science                                            1\n",
       "Name: title, Length: 622, dtype: int64"
      ]
     },
     "execution_count": 28,
     "metadata": {},
     "output_type": "execute_result"
    }
   ],
   "source": [
    "# Contamos valor repetidos en 'nombre_curso'\n",
    "Coursera_courses['title'].value_counts()"
   ]
  },
  {
   "attachments": {},
   "cell_type": "markdown",
   "metadata": {},
   "source": [
    "<font size=\"4\"><li><left><i>Valores duplicados solo para el curso `Introduction to Psychology`.</i></left></font>"
   ]
  },
  {
   "cell_type": "code",
   "execution_count": 31,
   "metadata": {},
   "outputs": [
    {
     "data": {
      "text/html": [
       "<div>\n",
       "<style scoped>\n",
       "    .dataframe tbody tr th:only-of-type {\n",
       "        vertical-align: middle;\n",
       "    }\n",
       "\n",
       "    .dataframe tbody tr th {\n",
       "        vertical-align: top;\n",
       "    }\n",
       "\n",
       "    .dataframe thead th {\n",
       "        text-align: right;\n",
       "    }\n",
       "</style>\n",
       "<table border=\"1\" class=\"dataframe\">\n",
       "  <thead>\n",
       "    <tr style=\"text-align: right;\">\n",
       "      <th></th>\n",
       "      <th>title</th>\n",
       "      <th>institution</th>\n",
       "      <th>course_url</th>\n",
       "      <th>course_id</th>\n",
       "      <th>Duplicate Count</th>\n",
       "      <th>Duplicate Percentage</th>\n",
       "    </tr>\n",
       "  </thead>\n",
       "  <tbody>\n",
       "    <tr>\n",
       "      <th>6</th>\n",
       "      <td>Introduction to Psychology</td>\n",
       "      <td>Yale University</td>\n",
       "      <td>https://www.coursera.org/learn/introduction-ps...</td>\n",
       "      <td>introduction-psychology</td>\n",
       "      <td>2</td>\n",
       "      <td>0.321027</td>\n",
       "    </tr>\n",
       "    <tr>\n",
       "      <th>54</th>\n",
       "      <td>Introduction to Psychology</td>\n",
       "      <td>University of Toronto</td>\n",
       "      <td>https://www.coursera.org/learn/introduction-psych</td>\n",
       "      <td>introduction-psych</td>\n",
       "      <td>2</td>\n",
       "      <td>0.321027</td>\n",
       "    </tr>\n",
       "  </tbody>\n",
       "</table>\n",
       "</div>"
      ],
      "text/plain": [
       "                         title            institution  \\\n",
       "6   Introduction to Psychology        Yale University   \n",
       "54  Introduction to Psychology  University of Toronto   \n",
       "\n",
       "                                           course_url  \\\n",
       "6   https://www.coursera.org/learn/introduction-ps...   \n",
       "54  https://www.coursera.org/learn/introduction-psych   \n",
       "\n",
       "                  course_id  Duplicate Count  Duplicate Percentage  \n",
       "6   introduction-psychology                2              0.321027  \n",
       "54       introduction-psych                2              0.321027  "
      ]
     },
     "execution_count": 31,
     "metadata": {},
     "output_type": "execute_result"
    }
   ],
   "source": [
    "# Traer filas con duplicados\n",
    "filas_duplicadas = eda.get_duplicate_rows_2(Coursera_courses, 'title')\n",
    "filas_duplicadas.head()"
   ]
  },
  {
   "attachments": {},
   "cell_type": "markdown",
   "metadata": {},
   "source": [
    "<font size=\"4\"><li><left><i>Se define que el curso no es necesariamente el mismo, se mantienen ambas filas.</i></left></font>"
   ]
  },
  {
   "cell_type": "code",
   "execution_count": 32,
   "metadata": {},
   "outputs": [
    {
     "data": {
      "text/plain": [
       "University of Pennsylvania       43\n",
       "University of Michigan           31\n",
       "Duke University                  24\n",
       "Google Cloud                     22\n",
       "IBM                              18\n",
       "                                 ..\n",
       "EDHEC Business School             1\n",
       "INSEAD                            1\n",
       "Google - Spectrum Sharing         1\n",
       "New York Institute of Finance     1\n",
       "UCL School of Management          1\n",
       "Name: institution, Length: 134, dtype: int64"
      ]
     },
     "execution_count": 32,
     "metadata": {},
     "output_type": "execute_result"
    }
   ],
   "source": [
    "# Contamos valor repetidos en 'institucion'\n",
    "Coursera_courses['institution'].value_counts()"
   ]
  },
  {
   "cell_type": "code",
   "execution_count": 36,
   "metadata": {},
   "outputs": [],
   "source": [
    "eda.plot_histogram(Coursera_courses, 'institution')\n"
   ]
  },
  {
   "cell_type": "code",
   "execution_count": null,
   "metadata": {},
   "outputs": [],
   "source": [
    "def plot_histogram(dataframe, column):\n",
    "\n",
    "    \"\"\"\n",
    "    Crea un histograma utilizando countplot para una columna dada en un dataframe.\n",
    "\n",
    "    Args:\n",
    "        dataframe (pd.DataFrame): El dataframe del que se extraen los datos.\n",
    "        column (str): El nombre de la columna para el histograma.\n",
    "    \"\"\"\n",
    "    sns.countplot(data=dataframe, x=column)\n",
    "    plt.title(f'Histograma de {column}')\n",
    "    plt.xlabel(column)\n",
    "    plt.ylabel('Frecuencia')\n",
    "    \n",
    "    # Mostrar la imagen en el entorno de ejecución de Jupyter Notebook\n",
    "    plt.show()\n",
    "\n",
    "plot_histogram(Coursera_courses,'institution')"
   ]
  },
  {
   "attachments": {},
   "cell_type": "markdown",
   "metadata": {},
   "source": [
    "<font size=\"4\"><li><left><i>Existen 134 `instituciones` y University of Pennsylvania es el valor más repetido con 43 cursos.  </i></left></font>"
   ]
  },
  {
   "cell_type": "code",
   "execution_count": 67,
   "metadata": {},
   "outputs": [
    {
     "data": {
      "text/plain": [
       "https://www.coursera.org/learn/machine-learning                             1\n",
       "https://www.coursera.org/learn/english-composition                          1\n",
       "https://www.coursera.org/learn/wharton-communication-skills                 1\n",
       "https://www.coursera.org/learn/introduction-trading-machine-learning-gcp    1\n",
       "https://www.coursera.org/learn/python-programming-introduction              1\n",
       "                                                                           ..\n",
       "https://www.coursera.org/learn/solar-energy-basics                          1\n",
       "https://www.coursera.org/learn/bootstrap-4                                  1\n",
       "https://www.coursera.org/learn/google-cloud-java-spring                     1\n",
       "https://www.coursera.org/learn/forensic-science                             1\n",
       "https://www.coursera.org/learn/data-science-course                          1\n",
       "Name: url_curso, Length: 623, dtype: int64"
      ]
     },
     "execution_count": 67,
     "metadata": {},
     "output_type": "execute_result"
    }
   ],
   "source": [
    "# Contamos valor repetidos en 'url_curso'\n",
    "Coursera_courses['url_curso'].value_counts()"
   ]
  },
  {
   "attachments": {},
   "cell_type": "markdown",
   "metadata": {},
   "source": [
    "<font size=\"4\"><li><left><i>Todos valores únicos para `url_curso`.</i></left></font>"
   ]
  },
  {
   "cell_type": "code",
   "execution_count": 68,
   "metadata": {},
   "outputs": [
    {
     "data": {
      "text/plain": [
       "machine-learning                             1\n",
       "english-composition                          1\n",
       "wharton-communication-skills                 1\n",
       "introduction-trading-machine-learning-gcp    1\n",
       "python-programming-introduction              1\n",
       "                                            ..\n",
       "solar-energy-basics                          1\n",
       "bootstrap-4                                  1\n",
       "google-cloud-java-spring                     1\n",
       "forensic-science                             1\n",
       "data-science-course                          1\n",
       "Name: id_curso, Length: 623, dtype: int64"
      ]
     },
     "execution_count": 68,
     "metadata": {},
     "output_type": "execute_result"
    }
   ],
   "source": [
    "# Contamos valor repetidos en 'id_curso'\n",
    "Coursera_courses['id_curso'].value_counts()"
   ]
  },
  {
   "attachments": {},
   "cell_type": "markdown",
   "metadata": {},
   "source": [
    "<font size=\"4\"><li><left><i>Todos valores únicos para `id_curso`.</i></left></font>"
   ]
  },
  {
   "attachments": {},
   "cell_type": "markdown",
   "metadata": {},
   "source": [
    "<font size=\"4\"><li><left><i>Opcional, en caso de neceistar el `id_curso` como `int`:</i></left></font>"
   ]
  },
  {
   "cell_type": "code",
   "execution_count": 50,
   "metadata": {},
   "outputs": [],
   "source": [
    "Coursera_courses = eda.sort_and_replace(Coursera_courses, 'nombre_curso', 'id_curso')"
   ]
  },
  {
   "cell_type": "code",
   "execution_count": 51,
   "metadata": {},
   "outputs": [
    {
     "data": {
      "text/html": [
       "<div>\n",
       "<style scoped>\n",
       "    .dataframe tbody tr th:only-of-type {\n",
       "        vertical-align: middle;\n",
       "    }\n",
       "\n",
       "    .dataframe tbody tr th {\n",
       "        vertical-align: top;\n",
       "    }\n",
       "\n",
       "    .dataframe thead th {\n",
       "        text-align: right;\n",
       "    }\n",
       "</style>\n",
       "<table border=\"1\" class=\"dataframe\">\n",
       "  <thead>\n",
       "    <tr style=\"text-align: right;\">\n",
       "      <th></th>\n",
       "      <th>nombre_curso</th>\n",
       "      <th>institucion</th>\n",
       "      <th>url_curso</th>\n",
       "      <th>id_curso</th>\n",
       "    </tr>\n",
       "  </thead>\n",
       "  <tbody>\n",
       "    <tr>\n",
       "      <th>261</th>\n",
       "      <td>A Crash Course in Causality:  Inferring Causal...</td>\n",
       "      <td>University of Pennsylvania</td>\n",
       "      <td>https://www.coursera.org/learn/crash-course-in...</td>\n",
       "      <td>0</td>\n",
       "    </tr>\n",
       "    <tr>\n",
       "      <th>622</th>\n",
       "      <td>A Crash Course in Data Science</td>\n",
       "      <td>Johns Hopkins University</td>\n",
       "      <td>https://www.coursera.org/learn/data-science-co...</td>\n",
       "      <td>1</td>\n",
       "    </tr>\n",
       "    <tr>\n",
       "      <th>396</th>\n",
       "      <td>A Law Student's Toolkit</td>\n",
       "      <td>Yale University</td>\n",
       "      <td>https://www.coursera.org/learn/law-student</td>\n",
       "      <td>2</td>\n",
       "    </tr>\n",
       "    <tr>\n",
       "      <th>9</th>\n",
       "      <td>AI For Everyone</td>\n",
       "      <td>DeepLearning.AI</td>\n",
       "      <td>https://www.coursera.org/learn/ai-for-everyone</td>\n",
       "      <td>3</td>\n",
       "    </tr>\n",
       "    <tr>\n",
       "      <th>215</th>\n",
       "      <td>AI for Medical Diagnosis</td>\n",
       "      <td>DeepLearning.AI</td>\n",
       "      <td>https://www.coursera.org/learn/ai-for-medical-...</td>\n",
       "      <td>4</td>\n",
       "    </tr>\n",
       "  </tbody>\n",
       "</table>\n",
       "</div>"
      ],
      "text/plain": [
       "                                          nombre_curso  \\\n",
       "261  A Crash Course in Causality:  Inferring Causal...   \n",
       "622                     A Crash Course in Data Science   \n",
       "396                            A Law Student's Toolkit   \n",
       "9                                      AI For Everyone   \n",
       "215                           AI for Medical Diagnosis   \n",
       "\n",
       "                    institucion  \\\n",
       "261  University of Pennsylvania   \n",
       "622    Johns Hopkins University   \n",
       "396             Yale University   \n",
       "9               DeepLearning.AI   \n",
       "215             DeepLearning.AI   \n",
       "\n",
       "                                             url_curso  id_curso  \n",
       "261  https://www.coursera.org/learn/crash-course-in...         0  \n",
       "622  https://www.coursera.org/learn/data-science-co...         1  \n",
       "396         https://www.coursera.org/learn/law-student         2  \n",
       "9       https://www.coursera.org/learn/ai-for-everyone         3  \n",
       "215  https://www.coursera.org/learn/ai-for-medical-...         4  "
      ]
     },
     "execution_count": 51,
     "metadata": {},
     "output_type": "execute_result"
    }
   ],
   "source": [
    "Coursera_courses.head()"
   ]
  },
  {
   "cell_type": "code",
   "execution_count": 52,
   "metadata": {},
   "outputs": [
    {
     "name": "stdout",
     "output_type": "stream",
     "text": [
      "<class 'pandas.core.frame.DataFrame'>\n",
      "Int64Index: 623 entries, 261 to 365\n",
      "Data columns (total 4 columns):\n",
      " #   Column        Non-Null Count  Dtype \n",
      "---  ------        --------------  ----- \n",
      " 0   nombre_curso  623 non-null    object\n",
      " 1   institucion   623 non-null    object\n",
      " 2   url_curso     623 non-null    object\n",
      " 3   id_curso      623 non-null    int64 \n",
      "dtypes: int64(1), object(3)\n",
      "memory usage: 24.3+ KB\n"
     ]
    }
   ],
   "source": [
    "Coursera_courses.info()"
   ]
  },
  {
   "cell_type": "code",
   "execution_count": null,
   "metadata": {},
   "outputs": [],
   "source": []
  }
 ],
 "metadata": {
  "kernelspec": {
   "display_name": "Python 3",
   "language": "python",
   "name": "python3"
  },
  "language_info": {
   "codemirror_mode": {
    "name": "ipython",
    "version": 3
   },
   "file_extension": ".py",
   "mimetype": "text/x-python",
   "name": "python",
   "nbconvert_exporter": "python",
   "pygments_lexer": "ipython3",
   "version": "3.10.0"
  },
  "orig_nbformat": 4
 },
 "nbformat": 4,
 "nbformat_minor": 2
}
