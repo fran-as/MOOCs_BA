{
 "cells": [
  {
   "cell_type": "code",
   "execution_count": 13,
   "metadata": {},
   "outputs": [],
   "source": [
    "import pandas as pd\n",
    "\n",
    "# Ruta de los archivos CSV\n",
    "archivo1 = '/Users/negro/Library/CloudStorage/OneDrive-Personal/Documentos/00 Fran/01 - Personales/02-Learn/0. Data Science/0. Data Science/2_projects/e_MOOCs/2_Repo/MOOCs_BA/rawDataSets/Coursera_courses_norm.csv'\n",
    "archivo2 = '/Users/negro/Library/CloudStorage/OneDrive-Personal/Documentos/00 Fran/01 - Personales/02-Learn/0. Data Science/0. Data Science/2_projects/e_MOOCs/2_Repo/MOOCs_BA/rawDataSets/edx_courses_norm.csv'\n",
    "archivo3 = '/Users/negro/Library/CloudStorage/OneDrive-Personal/Documentos/00 Fran/01 - Personales/02-Learn/0. Data Science/0. Data Science/2_projects/e_MOOCs/2_Repo/MOOCs_BA/rawDataSets/udemy_courses_norm.csv'\n",
    "\n",
    "# Importar los archivos CSV como dataframes\n",
    "Coursera_courses_norm = pd.read_csv(archivo1,encoding='UTF-8',decimal='.')\n",
    "edx_courses = pd.read_csv(archivo2,encoding='UTF-8',decimal='.')\n",
    "udemy_courses = pd.read_csv(archivo3,encoding='UTF-8',decimal='.')"
   ]
  },
  {
   "attachments": {},
   "cell_type": "markdown",
   "metadata": {},
   "source": [
    "<font size=\"4\"><li><left><i>Validamos que las columnas de los dataframes importados son iguales y por lo tanto podemos concatenarlos</i></left></font>"
   ]
  },
  {
   "cell_type": "code",
   "execution_count": 14,
   "metadata": {},
   "outputs": [
    {
     "name": "stdout",
     "output_type": "stream",
     "text": [
      "Las columnas de los dataframes son iguales.\n"
     ]
    }
   ],
   "source": [
    "columnas_df1 = set(Coursera_courses_norm.columns)\n",
    "columnas_df2 = set(edx_courses.columns)\n",
    "columnas_df3 = set(udemy_courses.columns)\n",
    "\n",
    "if columnas_df1 == columnas_df2 == columnas_df3:\n",
    "    print(\"Las columnas de los dataframes son iguales.\")\n",
    "else:\n",
    "    print(\"Las columnas de los dataframes no son iguales.\")"
   ]
  },
  {
   "cell_type": "code",
   "execution_count": 15,
   "metadata": {},
   "outputs": [],
   "source": [
    "# Concatenar los dataframes en uno solo\n",
    "df_moocs = pd.concat([Coursera_courses_norm, edx_courses, udemy_courses], ignore_index=True)"
   ]
  },
  {
   "cell_type": "code",
   "execution_count": 16,
   "metadata": {},
   "outputs": [
    {
     "data": {
      "text/html": [
       "<div>\n",
       "<style scoped>\n",
       "    .dataframe tbody tr th:only-of-type {\n",
       "        vertical-align: middle;\n",
       "    }\n",
       "\n",
       "    .dataframe tbody tr th {\n",
       "        vertical-align: top;\n",
       "    }\n",
       "\n",
       "    .dataframe thead th {\n",
       "        text-align: right;\n",
       "    }\n",
       "</style>\n",
       "<table border=\"1\" class=\"dataframe\">\n",
       "  <thead>\n",
       "    <tr style=\"text-align: right;\">\n",
       "      <th></th>\n",
       "      <th>course_id</th>\n",
       "      <th>provider</th>\n",
       "      <th>institution</th>\n",
       "      <th>title</th>\n",
       "      <th>subject</th>\n",
       "      <th>url</th>\n",
       "      <th>price</th>\n",
       "      <th>level</th>\n",
       "      <th>num_subscribers</th>\n",
       "      <th>num_lectures</th>\n",
       "      <th>num_reviews</th>\n",
       "      <th>rating</th>\n",
       "      <th>content_duration</th>\n",
       "      <th>language</th>\n",
       "      <th>published_timestamp</th>\n",
       "    </tr>\n",
       "  </thead>\n",
       "  <tbody>\n",
       "    <tr>\n",
       "      <th>0</th>\n",
       "      <td>machine-learning</td>\n",
       "      <td>coursera</td>\n",
       "      <td>Stanford University</td>\n",
       "      <td>Machine Learning</td>\n",
       "      <td>NaN</td>\n",
       "      <td>https://www.coursera.org/learn/machine-learning</td>\n",
       "      <td>0</td>\n",
       "      <td>NaN</td>\n",
       "      <td>0</td>\n",
       "      <td>0</td>\n",
       "      <td>12677.0</td>\n",
       "      <td>4.739923</td>\n",
       "      <td>0.0</td>\n",
       "      <td>NaN</td>\n",
       "      <td>2015-08-07</td>\n",
       "    </tr>\n",
       "    <tr>\n",
       "      <th>1</th>\n",
       "      <td>indigenous-canada</td>\n",
       "      <td>coursera</td>\n",
       "      <td>University of Alberta</td>\n",
       "      <td>Indigenous Canada</td>\n",
       "      <td>NaN</td>\n",
       "      <td>https://www.coursera.org/learn/indigenous-canada</td>\n",
       "      <td>0</td>\n",
       "      <td>NaN</td>\n",
       "      <td>0</td>\n",
       "      <td>0</td>\n",
       "      <td>1460.0</td>\n",
       "      <td>4.816438</td>\n",
       "      <td>0.0</td>\n",
       "      <td>NaN</td>\n",
       "      <td>2017-04-09</td>\n",
       "    </tr>\n",
       "    <tr>\n",
       "      <th>2</th>\n",
       "      <td>the-science-of-well-being</td>\n",
       "      <td>coursera</td>\n",
       "      <td>Yale University</td>\n",
       "      <td>The Science of Well-Being</td>\n",
       "      <td>NaN</td>\n",
       "      <td>https://www.coursera.org/learn/the-science-of-...</td>\n",
       "      <td>0</td>\n",
       "      <td>NaN</td>\n",
       "      <td>0</td>\n",
       "      <td>0</td>\n",
       "      <td>8199.0</td>\n",
       "      <td>4.929504</td>\n",
       "      <td>0.0</td>\n",
       "      <td>NaN</td>\n",
       "      <td>2018-03-29</td>\n",
       "    </tr>\n",
       "    <tr>\n",
       "      <th>3</th>\n",
       "      <td>technical-support-fundamentals</td>\n",
       "      <td>coursera</td>\n",
       "      <td>Google</td>\n",
       "      <td>Technical Support Fundamentals</td>\n",
       "      <td>NaN</td>\n",
       "      <td>https://www.coursera.org/learn/technical-suppo...</td>\n",
       "      <td>0</td>\n",
       "      <td>NaN</td>\n",
       "      <td>0</td>\n",
       "      <td>0</td>\n",
       "      <td>12055.0</td>\n",
       "      <td>4.767482</td>\n",
       "      <td>0.0</td>\n",
       "      <td>NaN</td>\n",
       "      <td>2018-01-16</td>\n",
       "    </tr>\n",
       "    <tr>\n",
       "      <th>4</th>\n",
       "      <td>google-cbrs-cpi-training</td>\n",
       "      <td>coursera</td>\n",
       "      <td>Google - Spectrum Sharing</td>\n",
       "      <td>Become a CBRS Certified Professional Installer...</td>\n",
       "      <td>NaN</td>\n",
       "      <td>https://www.coursera.org/learn/google-cbrs-cpi...</td>\n",
       "      <td>0</td>\n",
       "      <td>NaN</td>\n",
       "      <td>0</td>\n",
       "      <td>0</td>\n",
       "      <td>33.0</td>\n",
       "      <td>4.818182</td>\n",
       "      <td>0.0</td>\n",
       "      <td>NaN</td>\n",
       "      <td>2019-06-07</td>\n",
       "    </tr>\n",
       "  </tbody>\n",
       "</table>\n",
       "</div>"
      ],
      "text/plain": [
       "                        course_id  provider                institution  \\\n",
       "0                machine-learning  coursera        Stanford University   \n",
       "1               indigenous-canada  coursera      University of Alberta   \n",
       "2       the-science-of-well-being  coursera            Yale University   \n",
       "3  technical-support-fundamentals  coursera                     Google   \n",
       "4        google-cbrs-cpi-training  coursera  Google - Spectrum Sharing   \n",
       "\n",
       "                                               title subject  \\\n",
       "0                                   Machine Learning     NaN   \n",
       "1                                  Indigenous Canada     NaN   \n",
       "2                          The Science of Well-Being     NaN   \n",
       "3                     Technical Support Fundamentals     NaN   \n",
       "4  Become a CBRS Certified Professional Installer...     NaN   \n",
       "\n",
       "                                                 url  price level  \\\n",
       "0    https://www.coursera.org/learn/machine-learning      0   NaN   \n",
       "1   https://www.coursera.org/learn/indigenous-canada      0   NaN   \n",
       "2  https://www.coursera.org/learn/the-science-of-...      0   NaN   \n",
       "3  https://www.coursera.org/learn/technical-suppo...      0   NaN   \n",
       "4  https://www.coursera.org/learn/google-cbrs-cpi...      0   NaN   \n",
       "\n",
       "   num_subscribers  num_lectures  num_reviews    rating  content_duration  \\\n",
       "0                0             0      12677.0  4.739923               0.0   \n",
       "1                0             0       1460.0  4.816438               0.0   \n",
       "2                0             0       8199.0  4.929504               0.0   \n",
       "3                0             0      12055.0  4.767482               0.0   \n",
       "4                0             0         33.0  4.818182               0.0   \n",
       "\n",
       "  language published_timestamp  \n",
       "0      NaN          2015-08-07  \n",
       "1      NaN          2017-04-09  \n",
       "2      NaN          2018-03-29  \n",
       "3      NaN          2018-01-16  \n",
       "4      NaN          2019-06-07  "
      ]
     },
     "execution_count": 16,
     "metadata": {},
     "output_type": "execute_result"
    }
   ],
   "source": [
    "df_moocs.head()"
   ]
  },
  {
   "attachments": {},
   "cell_type": "markdown",
   "metadata": {},
   "source": [
    "<font size=\"4\"><li><left><i>Confirmamos que no exitan lineas duplicadas:</i></left></font>"
   ]
  },
  {
   "cell_type": "code",
   "execution_count": 17,
   "metadata": {},
   "outputs": [
    {
     "name": "stdout",
     "output_type": "stream",
     "text": [
      "0.0 %\n"
     ]
    }
   ],
   "source": [
    "num_duplicados = len(df_moocs[df_moocs.duplicated()])\n",
    "porcentaje_duplicados = (num_duplicados/len(df_moocs))*100\n",
    "print(porcentaje_duplicados,'%')"
   ]
  },
  {
   "cell_type": "code",
   "execution_count": 8,
   "metadata": {},
   "outputs": [
    {
     "name": "stdout",
     "output_type": "stream",
     "text": [
      "<class 'pandas.core.frame.DataFrame'>\n",
      "RangeIndex: 5269 entries, 0 to 5268\n",
      "Data columns (total 15 columns):\n",
      " #   Column               Non-Null Count  Dtype  \n",
      "---  ------               --------------  -----  \n",
      " 0   course_id            5269 non-null   object \n",
      " 1   provider             5269 non-null   object \n",
      " 2   institution          5269 non-null   object \n",
      " 3   title                5269 non-null   object \n",
      " 4   subject              4646 non-null   object \n",
      " 5   url                  5269 non-null   object \n",
      " 6   price                5269 non-null   int64  \n",
      " 7   level                4646 non-null   object \n",
      " 8   num_subscribers      5269 non-null   int64  \n",
      " 9   num_lectures         5269 non-null   int64  \n",
      " 10  num_reviews          5250 non-null   float64\n",
      " 11  rating               1578 non-null   float64\n",
      " 12  content_duration     5269 non-null   float64\n",
      " 13  language             974 non-null    object \n",
      " 14  published_timestamp  4276 non-null   object \n",
      "dtypes: float64(3), int64(3), object(9)\n",
      "memory usage: 617.6+ KB\n"
     ]
    }
   ],
   "source": [
    "df_moocs.info()"
   ]
  },
  {
   "cell_type": "code",
   "execution_count": 18,
   "metadata": {},
   "outputs": [
    {
     "data": {
      "text/plain": [
       "machine-learning    1\n",
       "u-1033670           1\n",
       "u-1010274           1\n",
       "u-749686            1\n",
       "u-521072            1\n",
       "                   ..\n",
       "u-588764            1\n",
       "u-402836            1\n",
       "u-1188410           1\n",
       "u-1085580           1\n",
       "u-297602            1\n",
       "Name: course_id, Length: 5269, dtype: int64"
      ]
     },
     "execution_count": 18,
     "metadata": {},
     "output_type": "execute_result"
    }
   ],
   "source": [
    "# Contamos valor repetidos en 'course_id'\n",
    "course_id_unique = df_moocs['course_id'].value_counts()\n",
    "course_id_unique"
   ]
  },
  {
   "cell_type": "code",
   "execution_count": 9,
   "metadata": {},
   "outputs": [],
   "source": [
    "# Exportamos dataframe a csv\n",
    "# Definimos path\n",
    "path_out_csv = '/Users/negro/Library/CloudStorage/OneDrive-Personal/Documentos/00 Fran/01 - Personales/02-Learn/0. Data Science/0. Data Science/2_projects/e_MOOCs/2_Repo/MOOCs_BA/rawDataSets/moocs_norm.csv'\n",
    "\n",
    "df_moocs.to_csv(path_out_csv, index=False, encoding='UTF-8', decimal='.')"
   ]
  },
  {
   "attachments": {},
   "cell_type": "markdown",
   "metadata": {},
   "source": [
    "<font size=\"4\"><li><left><i>Agrupamos en rangos de precios:</i></left></font>"
   ]
  }
 ],
 "metadata": {
  "kernelspec": {
   "display_name": "Python 3",
   "language": "python",
   "name": "python3"
  },
  "language_info": {
   "codemirror_mode": {
    "name": "ipython",
    "version": 3
   },
   "file_extension": ".py",
   "mimetype": "text/x-python",
   "name": "python",
   "nbconvert_exporter": "python",
   "pygments_lexer": "ipython3",
   "version": "3.10.0"
  },
  "orig_nbformat": 4
 },
 "nbformat": 4,
 "nbformat_minor": 2
}
